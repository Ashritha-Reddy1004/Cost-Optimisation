{
  "nbformat": 4,
  "nbformat_minor": 0,
  "metadata": {
    "colab": {
      "name": "Lasso Regression.ipynb",
      "provenance": []
    },
    "kernelspec": {
      "name": "python3",
      "display_name": "Python 3"
    },
    "language_info": {
      "name": "python"
    }
  },
  "cells": [
    {
      "cell_type": "code",
      "execution_count": null,
      "metadata": {
        "id": "CIxDb0RW135C"
      },
      "outputs": [],
      "source": [
        "import numpy as np\n",
        "  \n",
        "import pandas as pd\n",
        "  \n",
        "from sklearn.model_selection import train_test_split\n",
        "  \n",
        "import matplotlib.pyplot as plt"
      ]
    },
    {
      "cell_type": "code",
      "source": [
        "df = pd.read_csv(\"/content/dataset - Sheet1.csv\")"
      ],
      "metadata": {
        "id": "pIXkInUr4_FT"
      },
      "execution_count": null,
      "outputs": []
    },
    {
      "cell_type": "code",
      "source": [
        "df.info()"
      ],
      "metadata": {
        "colab": {
          "base_uri": "https://localhost:8080/"
        },
        "id": "2I-DNWFD5lqA",
        "outputId": "8e302fdb-f993-42eb-f5b4-69479edce0c6"
      },
      "execution_count": null,
      "outputs": [
        {
          "output_type": "stream",
          "name": "stdout",
          "text": [
            "<class 'pandas.core.frame.DataFrame'>\n",
            "RangeIndex: 122 entries, 0 to 121\n",
            "Data columns (total 6 columns):\n",
            " #   Column                    Non-Null Count  Dtype  \n",
            "---  ------                    --------------  -----  \n",
            " 0   SERIAL NO                 122 non-null    int64  \n",
            " 1   LENGTH OF THE SHEER WALL  122 non-null    int64  \n",
            " 2   HEIGHT OF THE SHEER WALL  122 non-null    float64\n",
            " 3   CONCRETE COST             122 non-null    float64\n",
            " 4   STEEL COST                122 non-null    float64\n",
            " 5   COST OF SHEAR WALL        122 non-null    float64\n",
            "dtypes: float64(4), int64(2)\n",
            "memory usage: 5.8 KB\n"
          ]
        }
      ]
    },
    {
      "cell_type": "code",
      "source": [
        "print(df.isnull().sum())"
      ],
      "metadata": {
        "colab": {
          "base_uri": "https://localhost:8080/"
        },
        "id": "R2CGcP5T5qAn",
        "outputId": "72c2c837-fcf7-4495-8ea4-0890b141d6a1"
      },
      "execution_count": null,
      "outputs": [
        {
          "output_type": "stream",
          "name": "stdout",
          "text": [
            "SERIAL NO                   0\n",
            "LENGTH OF THE SHEER WALL    0\n",
            "HEIGHT OF THE SHEER WALL    0\n",
            "CONCRETE COST               0\n",
            "STEEL COST                  0\n",
            "COST OF SHEAR WALL          0\n",
            "dtype: int64\n"
          ]
        }
      ]
    },
    {
      "cell_type": "code",
      "source": [
        "df = df.dropna()"
      ],
      "metadata": {
        "id": "lMD975Ff5t7y"
      },
      "execution_count": null,
      "outputs": []
    },
    {
      "cell_type": "code",
      "source": [
        "df.columns\n"
      ],
      "metadata": {
        "colab": {
          "base_uri": "https://localhost:8080/"
        },
        "id": "M_iiFIaO5x2M",
        "outputId": "0420722b-5b47-4f70-c14a-250f2422b74e"
      },
      "execution_count": null,
      "outputs": [
        {
          "output_type": "execute_result",
          "data": {
            "text/plain": [
              "Index(['SERIAL NO', 'LENGTH OF THE SHEER WALL', 'HEIGHT OF THE SHEER WALL',\n",
              "       'CONCRETE COST ', 'STEEL COST', 'COST OF SHEAR WALL '],\n",
              "      dtype='object')"
            ]
          },
          "metadata": {},
          "execution_count": 6
        }
      ]
    },
    {
      "cell_type": "code",
      "source": [
        "df=df.drop(['SERIAL NO'],axis=1)"
      ],
      "metadata": {
        "id": "cDf5QR5S55yF"
      },
      "execution_count": null,
      "outputs": []
    },
    {
      "cell_type": "code",
      "source": [
        "y = df['COST OF SHEAR WALL ']"
      ],
      "metadata": {
        "id": "5J82WfGl5z9p"
      },
      "execution_count": null,
      "outputs": []
    },
    {
      "cell_type": "code",
      "source": [
        "x = np.asarray(df.drop('COST OF SHEAR WALL ',axis=1))\n",
        "y =np.asarray(df['COST OF SHEAR WALL '])"
      ],
      "metadata": {
        "id": "JeLJZp-W6TKy"
      },
      "execution_count": null,
      "outputs": []
    },
    {
      "cell_type": "code",
      "source": [
        "from sklearn.model_selection import train_test_split\n",
        "X_train, X_test, y_train, y_test = train_test_split(x, y, test_size=0.3, random_state=10)"
      ],
      "metadata": {
        "id": "HB8FPO986i7G"
      },
      "execution_count": null,
      "outputs": []
    },
    {
      "cell_type": "code",
      "source": [
        "from sklearn.linear_model import Lasso\n",
        "\n",
        "reg = Lasso(alpha=1)\n",
        "reg.fit(X_train, y_train)"
      ],
      "metadata": {
        "colab": {
          "base_uri": "https://localhost:8080/"
        },
        "id": "5qYTVk786vzm",
        "outputId": "3fa0e108-e67a-45b7-fef2-46caa6effb51"
      },
      "execution_count": null,
      "outputs": [
        {
          "output_type": "execute_result",
          "data": {
            "text/plain": [
              "Lasso(alpha=1)"
            ]
          },
          "metadata": {},
          "execution_count": 16
        }
      ]
    },
    {
      "cell_type": "code",
      "source": [
        "print('R squared training set', round(reg.score(X_train, y_train)*100, 2))\n",
        "print('R squared test set', round(reg.score(X_test, y_test)*100, 2))"
      ],
      "metadata": {
        "colab": {
          "base_uri": "https://localhost:8080/"
        },
        "id": "oLhKG22160iJ",
        "outputId": "d180ec82-bc13-44cf-e4d8-6dcd254e6e91"
      },
      "execution_count": null,
      "outputs": [
        {
          "output_type": "stream",
          "name": "stdout",
          "text": [
            "R squared training set 99.99\n",
            "R squared test set 100.0\n"
          ]
        }
      ]
    },
    {
      "cell_type": "code",
      "source": [
        "from sklearn.metrics import mean_squared_error\n",
        "\n",
        "# Training data\n",
        "pred_train = reg.predict(X_train)\n",
        "mse_train = mean_squared_error(y_train, pred_train)\n",
        "print('MSE training set', round(mse_train, 2))\n",
        "\n",
        "# Test data\n",
        "pred = reg.predict(X_test)\n",
        "mse_test =mean_squared_error(y_test, pred)\n",
        "print('MSE test set', round(mse_test, 2))"
      ],
      "metadata": {
        "colab": {
          "base_uri": "https://localhost:8080/"
        },
        "id": "CdySeAiO7AIS",
        "outputId": "bd9f22f1-3109-4c45-f0d2-a32f1264aede"
      },
      "execution_count": null,
      "outputs": [
        {
          "output_type": "stream",
          "name": "stdout",
          "text": [
            "MSE training set 111527291.39\n",
            "MSE test set 6500762.44\n"
          ]
        }
      ]
    },
    {
      "cell_type": "code",
      "source": [
        "pred"
      ],
      "metadata": {
        "id": "2JHzjsjNFzkF",
        "outputId": "6de14fe5-3ed4-425d-a718-83ab647e76b7",
        "colab": {
          "base_uri": "https://localhost:8080/"
        }
      },
      "execution_count": null,
      "outputs": [
        {
          "output_type": "execute_result",
          "data": {
            "text/plain": [
              "array([6415594.57962747, 5863863.10521051, 5656963.80230415,\n",
              "       6484561.01392959, 4450051.20201705, 7622507.17991457,\n",
              "       6105245.62526793, 4691433.72207447, 7139742.13979973,\n",
              "       5622480.58515309, 3001756.08167253, 6656977.09968489,\n",
              "       4587984.07062129, 7588023.96276351, 5587997.36800203,\n",
              "       2967272.86452147, 7105258.92264867, 6208695.27672111,\n",
              "       3277621.81888101, 5794896.67090828, 7070775.70549761,\n",
              "       5967312.75666369, 5932829.53951263, 7484574.31131033,\n",
              "       5208681.97934037, 5725930.23660627, 3587970.77324055,\n",
              "       3415554.68748525, 7174225.35695079, 5519030.93369991,\n",
              "       3622453.99039161, 4725916.93922553, 4863849.80782977,\n",
              "       3036239.29882359, 6932842.83689337, 6760426.75113807,\n",
              "       4381084.76771493])"
            ]
          },
          "metadata": {},
          "execution_count": 20
        }
      ]
    }
  ]
}